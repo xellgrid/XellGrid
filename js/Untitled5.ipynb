{
 "cells": [
  {
   "cell_type": "code",
   "execution_count": 2,
   "id": "67e55cef-11d9-41f8-bda7-8aae56d87ba8",
   "metadata": {},
   "outputs": [
    {
     "data": {
      "application/vnd.jupyter.widget-view+json": {
       "model_id": "a0c2fc53523f4bc184b07acfa470d933",
       "version_major": 2,
       "version_minor": 0
      },
      "text/plain": [
       "QgridWidget(grid_options={'fullWidthRows': True, 'syncColumnCellResize': True, 'forceFitColumns': True, 'defau…"
      ]
     },
     "metadata": {},
     "output_type": "display_data"
    }
   ],
   "source": [
    "import warnings\n",
    "warnings.filterwarnings('ignore')\n",
    "import modin.pandas as pd\n",
    "import qgrid\n",
    "empty_df = pd.DataFrame(columns=['A', 'B', 'C', 'D', 'E', 'F', 'G', 'H', 'I', 'J', 'K', 'L', 'M', 'N'])\n",
    "df = pd.DataFrame(index=range(15), columns=empty_df.columns)\n",
    "df.fillna('', inplace=True)\n",
    "qgrid.show_grid(df, show_toolbar=True)\n"
   ]
  }
 ],
 "metadata": {
  "kernelspec": {
   "display_name": "movellab",
   "language": "python",
   "name": "movellab"
  },
  "language_info": {
   "codemirror_mode": {
    "name": "ipython",
    "version": 3
   },
   "file_extension": ".py",
   "mimetype": "text/x-python",
   "name": "python",
   "nbconvert_exporter": "python",
   "pygments_lexer": "ipython3",
   "version": "3.9.7"
  }
 },
 "nbformat": 4,
 "nbformat_minor": 5
}
