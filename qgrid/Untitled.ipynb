{
 "cells": [
  {
   "cell_type": "code",
   "execution_count": null,
   "id": "0d4f67ab-a4ce-4bb5-b2dc-b5ea979e58d7",
   "metadata": {},
   "outputs": [
    {
     "name": "stderr",
     "output_type": "stream",
     "text": [
      "UserWarning: Dask execution environment not yet initialized. Initializing...\n",
      "To remove this warning, run the following python code before doing dataframe operations:\n",
      "\n",
      "    from distributed import Client\n",
      "\n",
      "    client = Client()\n",
      "\n"
     ]
    }
   ],
   "source": [
    "import modin.pandas as pd\n",
    "import modin.spreadsheet as mss\n",
    "df = pd.read_csv(\"C:/devwork/modin/data/test.csv\")\n",
    "spreadsheet = mss.from_dataframe(df)\n",
    "spreadsheet"
   ]
  },
  {
   "cell_type": "code",
   "execution_count": null,
   "id": "2696fffc-5a71-42a4-b785-0292c83804d6",
   "metadata": {},
   "outputs": [],
   "source": []
  },
  {
   "cell_type": "code",
   "execution_count": null,
   "id": "d04f2383-2904-4ad4-99db-a9f4262c9159",
   "metadata": {},
   "outputs": [],
   "source": []
  }
 ],
 "metadata": {
  "kernelspec": {
   "display_name": "movellab",
   "language": "python",
   "name": "movellab"
  },
  "language_info": {
   "codemirror_mode": {
    "name": "ipython",
    "version": 3
   },
   "file_extension": ".py",
   "mimetype": "text/x-python",
   "name": "python",
   "nbconvert_exporter": "python",
   "pygments_lexer": "ipython3",
   "version": "3.9.7"
  }
 },
 "nbformat": 4,
 "nbformat_minor": 5
}
